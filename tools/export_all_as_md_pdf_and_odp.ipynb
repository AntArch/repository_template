{
 "cells": [
  {
   "cell_type": "markdown",
   "metadata": {
    "deletable": true,
    "editable": true
   },
   "source": [
    "# This should currently be run under virtual env py2_lrs_etl\n",
    "\n",
    "> source activate py2_lrs_etl"
   ]
  },
  {
   "cell_type": "code",
   "execution_count": 1,
   "metadata": {
    "ExecuteTime": {
     "end_time": "2017-12-06T11:54:17.084923Z",
     "start_time": "2017-12-06T11:54:17.068509Z"
    },
    "collapsed": true,
    "deletable": true,
    "editable": true
   },
   "outputs": [],
   "source": [
    "import os\n",
    "import re\n",
    "import itertools\n",
    "import nbformat\n",
    "import shutil\n",
    "import time\n",
    "\n",
    "\n",
    "\n",
    "NOTEBOOK_DIR = os.path.join(os.path.dirname(__file__), '..', 'notebooks')\n",
    "\n",
    "\n",
    "# regular expression filter to subset the files by naming pattern\n",
    "\n",
    "REG = re.compile(r'(\\d\\d)\\.(\\d\\d)-(.*)\\.ipynb')"
   ]
  },
  {
   "cell_type": "code",
   "execution_count": 2,
   "metadata": {
    "ExecuteTime": {
     "end_time": "2017-12-06T11:54:17.843531Z",
     "start_time": "2017-12-06T11:54:17.818558Z"
    },
    "collapsed": false,
    "deletable": true,
    "editable": true
   },
   "outputs": [
    {
     "name": "stdout",
     "output_type": "stream",
     "text": [
      "/home/beckant/git_shares/RoSRepositories/lr-workshop-master-material/tools\n",
      "/home/beckant/git_shares/RoSRepositories/lr-workshop-master-material/notebooks\n"
     ]
    }
   ],
   "source": [
    "#  Set current directory as working directory - when working in jupyter\n",
    "# (Change this if appropriate)\n",
    "#NOTEBOOK_DIR = os.getcwd()\n",
    "#print(NOTEBOOK_DIR)\n",
    "#NOTEBOOK_DIR = os.path.abspath(os.path.join(os.path.dirname(NOTEBOOK_DIR), 'notebooks'))\n",
    "#print(NOTEBOOK_DIR)"
   ]
  },
  {
   "cell_type": "code",
   "execution_count": 3,
   "metadata": {
    "ExecuteTime": {
     "end_time": "2017-12-06T12:17:43.831594Z",
     "start_time": "2017-12-06T12:17:43.657713Z"
    },
    "collapsed": true,
    "deletable": true,
    "editable": true
   },
   "outputs": [],
   "source": [
    "def iter_notebooks():\n",
    "    return sorted(nb for nb in os.listdir(NOTEBOOK_DIR) if REG.match(nb))\n",
    "\n",
    "# This is deprecated\n",
    "def export_ipynb_to_md(fileLoc,output_md):\n",
    "    \n",
    "    #fileLoc = os.path.join( NOTEBOOK_DIR, nb )[:-5]\n",
    "    print(fileLoc)\n",
    "    # convert notebook to markdown and clear any output cells\n",
    "    cLS = 'jupyter nbconvert --to markdown --ClearOutputPreprocessor.enabled=True ' +fileLoc+'ipynb'\n",
    "    os.system(cLS)\n",
    "    # strip any navigation text\n",
    "    cLS = \"sed -i '/^</d' \" +fileLoc+\"md\"\n",
    "    os.system(cLS)\n",
    "    cLS = \"sed -i '/^| /d' \" +fileLoc+\"md\"\n",
    "    os.system(cLS)\n",
    "    # strip any svg issue\n",
    "    cLS = \"sed -i '/^!\\[svg/d' \" +fileLoc+\"md\"\n",
    "    os.system(cLS)\n",
    "    # write files to new file\n",
    "    cLS = \"cat \" +fileLoc+\"md >>  \" +output_md\n",
    "    os.system(cLS)\n",
    "    #delete source md file (if exists)\n",
    "    try:\n",
    "        os.remove(fileLoc+'md')\n",
    "    except OSError:\n",
    "        pass\n",
    "\n",
    "def export_ipynb_to_md_odp(fileLoc,output_md):\n",
    "    \n",
    "    #fileLoc = os.path.join( NOTEBOOK_DIR, nb )[:-5]\n",
    "    print(fileLoc)\n",
    "    # convert notebook to markdown and clear any output cells: this is a bit unfortunate as I now want to keep some of these output cells\n",
    "    #cLS = 'jupyter nbconvert --to markdown --ClearOutputPreprocessor.enabled=True ' +fileLoc+'ipynb'\n",
    "    ##### I really want this to work but it doesn't (well it does in the terminal but not as cLS)\n",
    "    ##### jupyter nbconvert --to markdown --ExtractOutputPreprocessor.enabled=True 05.00-Proof-of-concept.ipynb\n",
    "    #cLS = 'jupyter nbconvert --to markdown --ExtractOutputPreprocessor.enabled=True ' +fileLoc+'ipynb'\n",
    "    cLS = 'jupyter nbconvert --to markdown ' +fileLoc+'ipynb'\n",
    "    print(cLS)\n",
    "    os.system(cLS)\n",
    "    # strip any navigation text\n",
    "    cLS = \"sed -i '/^</d' \" +fileLoc+\"md\"\n",
    "    os.system(cLS)\n",
    "    cLS = \"sed -i '/^| \\[/d' \" +fileLoc+\"md\"\n",
    "    os.system(cLS)\n",
    "    # strip any svg issue\n",
    "    cLS = \"sed -i '/^!\\[svg/d' \" +fileLoc+\"md\"\n",
    "    os.system(cLS)\n",
    "    #convert the relative image paths to absolute\n",
    "    ## those in the figures folder\n",
    "    cLS = \"sed -i s@\\(figures@\\(\" +NOTEBOOK_DIR+\"/figures@g \"+fileLoc+\"md\"\n",
    "    os.system(cLS)\n",
    "    ## those created inline\n",
    "    cLS = \"sed -i 's@!\\[png\\](@!\\[png\\](\" +NOTEBOOK_DIR+\"/@g' \"+fileLoc+\"md\"\n",
    "    os.system(cLS)    \n",
    "    # write files to new file\n",
    "    cLS = \"cat \" +fileLoc+\"md >>  \" +output_md\n",
    "    os.system(cLS)\n",
    "    # strip out tables which aren't currently supported and place in temporary file\n",
    "    #cLS = \"sed '/^|/d' \" +fileLoc+\"md > delme.md\"\n",
    "    #cLS = \"sed '/^|/d' \" +fileLoc+\"md > \"+fileLoc+\"delme.md\"\n",
    "    os.system(cLS)\n",
    "\n",
    "\n",
    "    # create the odp_output name\n",
    "    output_odp = os.path.join( NOTEBOOK_DIR, 'exports',os.path.basename(fileLoc)+'odp' )\n",
    "\n",
    "    # provide location and name of the ODP template\n",
    "    odp_template = os.path.join( os.path.dirname(NOTEBOOK_DIR), 'tools','discreet-dark.odp' )\n",
    "\n",
    "    # export as ODP presentation using odpdown\n",
    "    #cLS = \"odpdown --break-master=Discreet_25_20Dark1 --content-master=Discreet_25_20Dark delme.md \"+odp_template+\" \"+output_odp\n",
    "    cLS = \"odpdown --break-master=Discreet_25_20Dark1 --content-master=Discreet_25_20Dark \" +fileLoc+\"md \"+odp_template+\" \"+output_odp\n",
    "    os.system(cLS)\n",
    "    \n",
    "    # export as ODP presentation to powerpoint\n",
    "    #cLS = \"soffice --headless --convert-to pptx \"+output_odp\n",
    "    #cLS = \"cd ../notebooks/exports && soffice --headless --convert-to pptx \"+output_odp+\" && rm *.odp && cd ../../tools\"\n",
    "    #print(cLS)\n",
    "    #os.system(cLS)\n",
    "       \n",
    "    #delete source md file (if exists)\n",
    "    try:\n",
    "        os.remove(fileLoc+'md')\n",
    "    except OSError:\n",
    "        pass\n",
    "    #delete temporary file (if exists)\n",
    "    try:\n",
    "        os.remove('delme.md')\n",
    "    except OSError:\n",
    "        pass"
   ]
  },
  {
   "cell_type": "code",
   "execution_count": 7,
   "metadata": {
    "ExecuteTime": {
     "end_time": "2017-12-06T12:18:15.543041Z",
     "start_time": "2017-12-06T12:17:44.865506Z"
    },
    "collapsed": false,
    "deletable": true,
    "editable": true
   },
   "outputs": [
    {
     "name": "stdout",
     "output_type": "stream",
     "text": [
      "Converting file: 00.00-Preface.ipynb\n",
      "/home/beckant/git_shares/RoSRepositories/lr-workshop-master-material/notebooks/00.00-Preface.\n",
      "jupyter nbconvert --to markdown /home/beckant/git_shares/RoSRepositories/lr-workshop-master-material/notebooks/00.00-Preface.ipynb\n",
      "Converting file: 00.01-Why-Change.ipynb\n",
      "/home/beckant/git_shares/RoSRepositories/lr-workshop-master-material/notebooks/00.01-Why-Change.\n",
      "jupyter nbconvert --to markdown /home/beckant/git_shares/RoSRepositories/lr-workshop-master-material/notebooks/00.01-Why-Change.ipynb\n",
      "Converting file: 01.00-New-Land-Register-Concepts.ipynb\n",
      "/home/beckant/git_shares/RoSRepositories/lr-workshop-master-material/notebooks/01.00-New-Land-Register-Concepts.\n",
      "jupyter nbconvert --to markdown /home/beckant/git_shares/RoSRepositories/lr-workshop-master-material/notebooks/01.00-New-Land-Register-Concepts.ipynb\n",
      "Converting file: 01.01-More-About-Ownership-Rights.ipynb\n",
      "/home/beckant/git_shares/RoSRepositories/lr-workshop-master-material/notebooks/01.01-More-About-Ownership-Rights.\n",
      "jupyter nbconvert --to markdown /home/beckant/git_shares/RoSRepositories/lr-workshop-master-material/notebooks/01.01-More-About-Ownership-Rights.ipynb\n",
      "Converting file: 01.02-The-importance-of-subordinate-rights.ipynb\n",
      "/home/beckant/git_shares/RoSRepositories/lr-workshop-master-material/notebooks/01.02-The-importance-of-subordinate-rights.\n",
      "jupyter nbconvert --to markdown /home/beckant/git_shares/RoSRepositories/lr-workshop-master-material/notebooks/01.02-The-importance-of-subordinate-rights.ipynb\n",
      "Converting file: 01.03-Rights-relationships.ipynb\n",
      "/home/beckant/git_shares/RoSRepositories/lr-workshop-master-material/notebooks/01.03-Rights-relationships.\n",
      "jupyter nbconvert --to markdown /home/beckant/git_shares/RoSRepositories/lr-workshop-master-material/notebooks/01.03-Rights-relationships.ipynb\n",
      "Converting file: 01.04-Parties-and-agency.ipynb\n",
      "/home/beckant/git_shares/RoSRepositories/lr-workshop-master-material/notebooks/01.04-Parties-and-agency.\n",
      "jupyter nbconvert --to markdown /home/beckant/git_shares/RoSRepositories/lr-workshop-master-material/notebooks/01.04-Parties-and-agency.ipynb\n",
      "Converting file: 01.05-Plots-of-land-as-parties.ipynb\n",
      "/home/beckant/git_shares/RoSRepositories/lr-workshop-master-material/notebooks/01.05-Plots-of-land-as-parties.\n",
      "jupyter nbconvert --to markdown /home/beckant/git_shares/RoSRepositories/lr-workshop-master-material/notebooks/01.05-Plots-of-land-as-parties.ipynb\n",
      "Converting file: 01.06-Deeds-the-mechanism-that-changes-the-register.ipynb\n",
      "/home/beckant/git_shares/RoSRepositories/lr-workshop-master-material/notebooks/01.06-Deeds-the-mechanism-that-changes-the-register.\n",
      "jupyter nbconvert --to markdown /home/beckant/git_shares/RoSRepositories/lr-workshop-master-material/notebooks/01.06-Deeds-the-mechanism-that-changes-the-register.ipynb\n",
      "Converting file: 02.00-Harder-concepts.ipynb\n",
      "/home/beckant/git_shares/RoSRepositories/lr-workshop-master-material/notebooks/02.00-Harder-concepts.\n",
      "jupyter nbconvert --to markdown /home/beckant/git_shares/RoSRepositories/lr-workshop-master-material/notebooks/02.00-Harder-concepts.ipynb\n",
      "Converting file: 02.01-Shared-plots.ipynb\n",
      "/home/beckant/git_shares/RoSRepositories/lr-workshop-master-material/notebooks/02.01-Shared-plots.\n",
      "jupyter nbconvert --to markdown /home/beckant/git_shares/RoSRepositories/lr-workshop-master-material/notebooks/02.01-Shared-plots.ipynb\n",
      "Converting file: 02.02-Flatted-buildings.ipynb\n",
      "/home/beckant/git_shares/RoSRepositories/lr-workshop-master-material/notebooks/02.02-Flatted-buildings.\n",
      "jupyter nbconvert --to markdown /home/beckant/git_shares/RoSRepositories/lr-workshop-master-material/notebooks/02.02-Flatted-buildings.ipynb\n",
      "Converting file: 02.03-What-is-the-relationship-between-land-and-cadastre.ipynb\n",
      "/home/beckant/git_shares/RoSRepositories/lr-workshop-master-material/notebooks/02.03-What-is-the-relationship-between-land-and-cadastre.\n",
      "jupyter nbconvert --to markdown /home/beckant/git_shares/RoSRepositories/lr-workshop-master-material/notebooks/02.03-What-is-the-relationship-between-land-and-cadastre.ipynb\n",
      "Converting file: 02.04-What-is-a-title.ipynb\n",
      "/home/beckant/git_shares/RoSRepositories/lr-workshop-master-material/notebooks/02.04-What-is-a-title.\n",
      "jupyter nbconvert --to markdown /home/beckant/git_shares/RoSRepositories/lr-workshop-master-material/notebooks/02.04-What-is-a-title.ipynb\n",
      "Converting file: 02.05-So-what-do-we-call-the-spatial-extent-of-subordinate-rights.ipynb\n",
      "/home/beckant/git_shares/RoSRepositories/lr-workshop-master-material/notebooks/02.05-So-what-do-we-call-the-spatial-extent-of-subordinate-rights.\n",
      "jupyter nbconvert --to markdown /home/beckant/git_shares/RoSRepositories/lr-workshop-master-material/notebooks/02.05-So-what-do-we-call-the-spatial-extent-of-subordinate-rights.ipynb\n",
      "Converting file: 02.06-What-is-the-cadastre.ipynb\n",
      "/home/beckant/git_shares/RoSRepositories/lr-workshop-master-material/notebooks/02.06-What-is-the-cadastre.\n",
      "jupyter nbconvert --to markdown /home/beckant/git_shares/RoSRepositories/lr-workshop-master-material/notebooks/02.06-What-is-the-cadastre.ipynb\n",
      "Converting file: 03.00-The-vision-a-PRL-cadastre.ipynb\n",
      "/home/beckant/git_shares/RoSRepositories/lr-workshop-master-material/notebooks/03.00-The-vision-a-PRL-cadastre.\n",
      "jupyter nbconvert --to markdown /home/beckant/git_shares/RoSRepositories/lr-workshop-master-material/notebooks/03.00-The-vision-a-PRL-cadastre.ipynb\n",
      "Converting file: 03.01-The-2012-act.ipynb\n",
      "/home/beckant/git_shares/RoSRepositories/lr-workshop-master-material/notebooks/03.01-The-2012-act.\n",
      "jupyter nbconvert --to markdown /home/beckant/git_shares/RoSRepositories/lr-workshop-master-material/notebooks/03.01-The-2012-act.ipynb\n",
      "Converting file: 03.02-The-proposed-approach.ipynb\n",
      "/home/beckant/git_shares/RoSRepositories/lr-workshop-master-material/notebooks/03.02-The-proposed-approach.\n",
      "jupyter nbconvert --to markdown /home/beckant/git_shares/RoSRepositories/lr-workshop-master-material/notebooks/03.02-The-proposed-approach.ipynb\n",
      "Converting file: 04.00-There-and-back-again.ipynb\n",
      "/home/beckant/git_shares/RoSRepositories/lr-workshop-master-material/notebooks/04.00-There-and-back-again.\n",
      "jupyter nbconvert --to markdown /home/beckant/git_shares/RoSRepositories/lr-workshop-master-material/notebooks/04.00-There-and-back-again.ipynb\n",
      "Converting file: 04.01-A-typical_scenario.ipynb\n",
      "/home/beckant/git_shares/RoSRepositories/lr-workshop-master-material/notebooks/04.01-A-typical_scenario.\n",
      "jupyter nbconvert --to markdown /home/beckant/git_shares/RoSRepositories/lr-workshop-master-material/notebooks/04.01-A-typical_scenario.ipynb\n",
      "Converting file: 04.02-A-shared-driveway-post-2012.ipynb\n",
      "/home/beckant/git_shares/RoSRepositories/lr-workshop-master-material/notebooks/04.02-A-shared-driveway-post-2012.\n",
      "jupyter nbconvert --to markdown /home/beckant/git_shares/RoSRepositories/lr-workshop-master-material/notebooks/04.02-A-shared-driveway-post-2012.ipynb\n",
      "Converting file: 04.03-A-shared-driveway-pre-2012.ipynb\n",
      "/home/beckant/git_shares/RoSRepositories/lr-workshop-master-material/notebooks/04.03-A-shared-driveway-pre-2012.\n",
      "jupyter nbconvert --to markdown /home/beckant/git_shares/RoSRepositories/lr-workshop-master-material/notebooks/04.03-A-shared-driveway-pre-2012.ipynb\n",
      "Converting file: 04.04-A-complex-shared-plot.ipynb\n",
      "/home/beckant/git_shares/RoSRepositories/lr-workshop-master-material/notebooks/04.04-A-complex-shared-plot.\n",
      "jupyter nbconvert --to markdown /home/beckant/git_shares/RoSRepositories/lr-workshop-master-material/notebooks/04.04-A-complex-shared-plot.ipynb\n",
      "Converting file: 04.05-Creating-a-conveyancing-pack.ipynb\n",
      "/home/beckant/git_shares/RoSRepositories/lr-workshop-master-material/notebooks/04.05-Creating-a-conveyancing-pack.\n",
      "jupyter nbconvert --to markdown /home/beckant/git_shares/RoSRepositories/lr-workshop-master-material/notebooks/04.05-Creating-a-conveyancing-pack.ipynb\n",
      "Converting file: 05.00-Proof-of-concept.ipynb\n",
      "/home/beckant/git_shares/RoSRepositories/lr-workshop-master-material/notebooks/05.00-Proof-of-concept.\n",
      "jupyter nbconvert --to markdown /home/beckant/git_shares/RoSRepositories/lr-workshop-master-material/notebooks/05.00-Proof-of-concept.ipynb\n",
      "Converting file: 05.01-PoC-summary.ipynb\n",
      "/home/beckant/git_shares/RoSRepositories/lr-workshop-master-material/notebooks/05.01-PoC-summary.\n",
      "jupyter nbconvert --to markdown /home/beckant/git_shares/RoSRepositories/lr-workshop-master-material/notebooks/05.01-PoC-summary.ipynb\n",
      "Converting file: 05.02-PoC-Automated-Analysis.ipynb\n",
      "/home/beckant/git_shares/RoSRepositories/lr-workshop-master-material/notebooks/05.02-PoC-Automated-Analysis.\n",
      "jupyter nbconvert --to markdown /home/beckant/git_shares/RoSRepositories/lr-workshop-master-material/notebooks/05.02-PoC-Automated-Analysis.ipynb\n",
      "Converting file: 06.00-Beyond-PoC.ipynb\n",
      "/home/beckant/git_shares/RoSRepositories/lr-workshop-master-material/notebooks/06.00-Beyond-PoC.\n",
      "jupyter nbconvert --to markdown /home/beckant/git_shares/RoSRepositories/lr-workshop-master-material/notebooks/06.00-Beyond-PoC.ipynb\n",
      "Converting file: 06.01-Status-of-work.ipynb\n",
      "/home/beckant/git_shares/RoSRepositories/lr-workshop-master-material/notebooks/06.01-Status-of-work.\n",
      "jupyter nbconvert --to markdown /home/beckant/git_shares/RoSRepositories/lr-workshop-master-material/notebooks/06.01-Status-of-work.ipynb\n",
      "Converting file: 07.00-Physicalising-the-model.ipynb\n",
      "/home/beckant/git_shares/RoSRepositories/lr-workshop-master-material/notebooks/07.00-Physicalising-the-model.\n",
      "jupyter nbconvert --to markdown /home/beckant/git_shares/RoSRepositories/lr-workshop-master-material/notebooks/07.00-Physicalising-the-model.ipynb\n",
      "Converting file: 08.00-Scenario-building.ipynb\n",
      "/home/beckant/git_shares/RoSRepositories/lr-workshop-master-material/notebooks/08.00-Scenario-building.\n",
      "jupyter nbconvert --to markdown /home/beckant/git_shares/RoSRepositories/lr-workshop-master-material/notebooks/08.00-Scenario-building.ipynb\n",
      "Converting file: 09.00-Extracting-the-spatial-extent-of-rights.ipynb\n",
      "/home/beckant/git_shares/RoSRepositories/lr-workshop-master-material/notebooks/09.00-Extracting-the-spatial-extent-of-rights.\n",
      "jupyter nbconvert --to markdown /home/beckant/git_shares/RoSRepositories/lr-workshop-master-material/notebooks/09.00-Extracting-the-spatial-extent-of-rights.ipynb\n",
      "Converting file: 10.00-Engineering-the-transition.ipynb\n",
      "/home/beckant/git_shares/RoSRepositories/lr-workshop-master-material/notebooks/10.00-Engineering-the-transition.\n",
      "jupyter nbconvert --to markdown /home/beckant/git_shares/RoSRepositories/lr-workshop-master-material/notebooks/10.00-Engineering-the-transition.ipynb\n",
      "Converting file: 11.00-Populating-the-model.ipynb\n",
      "/home/beckant/git_shares/RoSRepositories/lr-workshop-master-material/notebooks/11.00-Populating-the-model.\n",
      "jupyter nbconvert --to markdown /home/beckant/git_shares/RoSRepositories/lr-workshop-master-material/notebooks/11.00-Populating-the-model.ipynb\n",
      "Converting file: 20.00-Documenting-the-journey.ipynb\n",
      "/home/beckant/git_shares/RoSRepositories/lr-workshop-master-material/notebooks/20.00-Documenting-the-journey.\n",
      "jupyter nbconvert --to markdown /home/beckant/git_shares/RoSRepositories/lr-workshop-master-material/notebooks/20.00-Documenting-the-journey.ipynb\n"
     ]
    }
   ],
   "source": [
    "#get timestamp\n",
    "timestr = time.strftime(\"%Y%m%d\")\n",
    "\n",
    "# create the timestamped markdown output name\n",
    "output_md = os.path.join( NOTEBOOK_DIR, 'exports',timestr+'_workbook_export.md' )\n",
    "\n",
    "\n",
    "#delete markdown file (if exists)\n",
    "try:\n",
    "    os.remove(output_md)\n",
    "except OSError:\n",
    "    pass\n",
    "\n",
    "# Export all the ipynb as a markdown and concatenate into a single date stamped markdown file\n",
    "for nb in iter_notebooks():\n",
    "    print('Converting file: '+nb)\n",
    "    fileLoc = os.path.join( NOTEBOOK_DIR, nb )[:-5]\n",
    "    #export_ipynb_to_md(os.path.join( NOTEBOOK_DIR, nb )[:-5])\n",
    "    #export_ipynb_to_md(fileLoc, output_md )\n",
    "    export_ipynb_to_md_odp(fileLoc, output_md )\n",
    "\n",
    "\n"
   ]
  },
  {
   "cell_type": "markdown",
   "metadata": {
    "deletable": true,
    "editable": true
   },
   "source": [
    "# ODP export\n",
    "\n",
    "Clean up the markdown prior to export\n",
    "\n",
    "Manually remove the following:\n",
    "\n",
    "* make sure there are no ### headers\n"
   ]
  },
  {
   "cell_type": "code",
   "execution_count": 5,
   "metadata": {
    "collapsed": true,
    "deletable": true,
    "editable": true
   },
   "outputs": [],
   "source": [
    "#Convert markdown to ODP\n",
    "\n",
    "# stip out tables which aren't yet supported\n",
    "\n",
    "# strip out tables which aren't currently supported and place in temporary file\n",
    "cLS = \"sed '/^|/d' \" +output_md+\" > delme.md\"\n",
    "os.system(cLS)\n",
    "\n",
    "# create the timestamped pdf output name\n",
    "output_odp = os.path.join( NOTEBOOK_DIR, 'exports',timestr+'_workbook_export.odp' )\n",
    "\n",
    "# provide location and name of the ODP template\n",
    "#odp_template = os.path.join( os.path.dirname(NOTEBOOK_DIR), 'tools','discreet-dark_arb.odp' )\n",
    "odp_template = os.path.join( os.path.dirname(NOTEBOOK_DIR), 'tools','discreet-dark.odp' )\n",
    "\n",
    "# export as ODP presentation using odpdown\n",
    "#cLS = \"odpdown --break-master=Discreet_25_20Dark1 --content-master=Discreet_25_20Dark \" +output_md+\" \"+odp_template+\" \"+output_odp\n",
    "cLS = \"odpdown --break-master=Discreet_25_20Dark1 --content-master=Discreet_25_20Dark delme.md \"+odp_template+\" \"+output_odp\n",
    "os.system(cLS)\n",
    "\n",
    "#delete temporary file (if exists)\n",
    "try:\n",
    "    os.remove('delme.md')\n",
    "except OSError:\n",
    "    pass\n",
    "\n",
    "#!!odpdown --break-master=Discreet_25_20Dark1 --content-master=Discreet_25_20Dark {output_md} {odp_template} {output_odp} "
   ]
  },
  {
   "cell_type": "markdown",
   "metadata": {
    "deletable": true,
    "editable": true
   },
   "source": [
    "# PDF export\n",
    "\n"
   ]
  },
  {
   "cell_type": "code",
   "execution_count": null,
   "metadata": {
    "collapsed": false,
    "deletable": true,
    "editable": true
   },
   "outputs": [
    {
     "name": "stdout",
     "output_type": "stream",
     "text": [
      "pandoc -f markdown -t latex -N -V geometry:margin=1in /home/beckant/git_shares/RoSRepositories/lr-workshop-master-material/notebooks/exports/20171222_workbook_export.md --latex-engine=xelatex --toc -o /home/beckant/git_shares/RoSRepositories/lr-workshop-master-material/notebooks/exports/20171222_workbook_export.pdf\n"
     ]
    }
   ],
   "source": [
    "#Convert markdown to PDF\n",
    "\n",
    "# create the timestamped pdf output name\n",
    "output_pdf = os.path.join( NOTEBOOK_DIR, 'exports',timestr+'_workbook_export.pdf' )\n",
    "\n",
    "cLS = \"pandoc -f markdown -t latex -N -V geometry:margin=1in \" +output_md+\" --latex-engine=xelatex --toc -o \"+output_pdf\n",
    "print(cLS)\n",
    "os.system(cLS)\n",
    "#!!pandoc -f markdown -t latex -N -V geometry:margin=1in {output_md} --latex-engine=xelatex --toc -o {output_pdf}"
   ]
  },
  {
   "cell_type": "code",
   "execution_count": null,
   "metadata": {
    "collapsed": true,
    "deletable": true,
    "editable": true
   },
   "outputs": [],
   "source": []
  }
 ],
 "metadata": {
  "anaconda-cloud": {},
  "hide_input": false,
  "kernelspec": {
   "display_name": "Python 2",
   "language": "python",
   "name": "python2"
  },
  "language_info": {
   "codemirror_mode": {
    "name": "ipython",
    "version": 2
   },
   "file_extension": ".py",
   "mimetype": "text/x-python",
   "name": "python",
   "nbconvert_exporter": "python",
   "pygments_lexer": "ipython2",
   "version": "2.7.13"
  },
  "latex_envs": {
   "LaTeX_envs_menu_present": true,
   "autocomplete": true,
   "bibliofile": "biblio.bib",
   "cite_by": "apalike",
   "current_citInitial": 1,
   "eqLabelWithNumbers": true,
   "eqNumInitial": 1,
   "hotkeys": {
    "equation": "Ctrl-E",
    "itemize": "Ctrl-I"
   },
   "labels_anchors": false,
   "latex_user_defs": false,
   "report_style_numbering": false,
   "user_envs_cfg": false
  },
  "toc": {
   "nav_menu": {},
   "number_sections": true,
   "sideBar": true,
   "skip_h1_title": false,
   "toc_cell": false,
   "toc_position": {},
   "toc_section_display": "block",
   "toc_window_display": false
  }
 },
 "nbformat": 4,
 "nbformat_minor": 2
}
