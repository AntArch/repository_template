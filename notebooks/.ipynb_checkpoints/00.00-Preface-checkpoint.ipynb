{
 "cells": [
  {
   "cell_type": "markdown",
   "metadata": {
    "deletable": true,
    "editable": true
   },
   "source": [
    "<!--NAVIGATION-->\n",
    "| [Contents](Index.ipynb) | [Why Change](00.01-Why-Change.ipynb) >"
   ]
  },
  {
   "cell_type": "markdown",
   "metadata": {
    "deletable": true,
    "editable": true
   },
   "source": [
    "# Land Registration in Scotland workshop\n"
   ]
  },
  {
   "cell_type": "markdown",
   "metadata": {
    "deletable": true,
    "editable": true
   },
   "source": [
    "This is a workshop about Land Registration. It is specifically about Land Registration in Scotland. Scotland has a long history of Land Registration. \n",
    "\n",
    "## The General Register of Sasines - 1617\n",
    "\n",
    "[The General Register of Sasines](https://www.ros.gov.uk/services/registration/sasine-register) - also known as the sasine register - is the oldest national land register in the world, dating back to 1617. Its name comes from the old French word 'seizer', which means 'take'.\n",
    "\n",
    "The sasine register is a chronological list of land deeds, which contain **written descriptions** of properties. It is gradually being replaced by the **map-based** land register.\n",
    "\n",
    "## The Land Register of Scotland - 1979 (became law in 1981) to 2014\n",
    "\n",
    "The [land register](https://www.ros.gov.uk/services/registration/land-register) is the primary register managed by [Registers of Scotland](https://www.ros.gov.uk/). Introduced in 1981, it's a register of who owns land and property in Scotland.\n",
    "\n",
    "The land register (1979) was based on the Ordnance Survey map, and includes plans of registered land. Every plot of land on the register has a title sheet, which is guaranteed by the state. The title sheet defines the extent of the plot of land on a map and gives details of:\n",
    "\n",
    "* current owners\n",
    "* price\n",
    "* mortgage details\n",
    "* conditions affecting the property\n",
    "\n",
    "## The Land Register of Scotland - 2012 (became law in 2014) to present\n",
    "\n",
    "The [Land Registration etc (Scotland) Act 2012](http://www.legislation.gov.uk/asp/2012/5/introduction/enacted) came into force on 8 December 2014. The 2012 Act followed on from, and developed, the recommendations made by the Scottish Law Commission in their [report on land registration published in February 2010](http://www.scotlawcom.gov.uk/files/1112/7979/8376/rep222v1.pdf) (Reig and Gretton, who chaired this report, also published the book '[Land Registration](http://www.avizandum.co.uk/content/land-registration)' (there is a digital copy in the RoS library)). The 2012 Act put in place a new scheme of land registration. The main purpose of the act was to reform and restate the law on the registration of rights to land in the Land Register of Scotland. The act achieved this by repealing much of the current land registration statute: the Land Registration (Scotland) Act 1979, and the Land Registration (Scotland) Rules 2006 made under that act.\n",
    "\n",
    "The 2012 Act realigned the law of land registration with property law. It also put on a statutory footing many of the policies and practices the keeper had developed since the introduction of the Land Register in 1981. The 2012 Act introduced new concepts, such as advance notices, and new rules that govern how the keeper registers deeds and makes up the register.\n",
    "\n",
    "The changes introduced by the 2012 act are profound and have an impact on the two principal back end data systems:\n",
    "\n",
    "* [Digital Mapping System](http://netconfluence1.core.rosdev.org.uk/display/AR/DMS+-+Digital+Mapping+System)\n",
    "    * The requirement to demonstrate no overlapping *ownership in land* means that DMS is no longer *fit for purpose*\n",
    "* [Land Registration System](http://netconfluence1.core.rosdev.org.uk/display/AR/LRS+-+Land+Registration+System)\n",
    "    * Manages and represents 'legal settle'\n",
    "    * It has been called a **string factory** in that is does not store data directly, but structures information using syntax and grammar rules so that sentences and paragraphs can be generated.\n",
    "    * The **string factory** approach makes data extraction complex and means that it is difficult to either:\n",
    "        * productise the land register\n",
    "        * provide intelligence to support policy, business or operational decision. \n",
    "\n",
    "\n"
   ]
  },
  {
   "cell_type": "markdown",
   "metadata": {
    "deletable": true,
    "editable": true
   },
   "source": [
    "# The 'new model'\n",
    "\n",
    "The new model will reflect changes to the Land Register demanded by the [Land Registration etc. (Scotland) Act 2012](http://www.legislation.gov.uk/asp/2012/5/introduction/enacted). \n",
    "\n",
    "RoS has the the following responsibilities\n",
    "\n",
    "* From an ongoing basis RoS has to legally operate within the limits defined by the 2012 Act (LR_Act_2012: Land Registration etc. (Scotland) Act 2012) \n",
    "* The act has no mandated retrospective impact on records currently in the system - the new 'to be' system must be able to function with 'to be' and 'as is' records. \n",
    "    * However, Schedule 4 gives the Keeper powers to update records.\n",
    "\n",
    "The goal is to develop the physical model of the Land Register that reflects these responsibilities. The aspiration is to align this model, wherever possible, to the [Land Administration Domain Model standard as described in ISO 19152](https://www.iso.org/standard/51206.html). [Land Registration](http://www.avizandum.co.uk/content/land-registration) (Reid and Gretton, 2017) provides useful supporting context that explains some of the reasoning behind the legislation. There is also significant content in the currently materialised LRS and DMS data models. \n",
    "\n",
    "The problem the modelling faces is the following:\n",
    "\n",
    "* Ensuring legal compliance,\n",
    "* while simplifying for the future,\n",
    "* without losing legacy functions and\n",
    "* aligning to standards\n",
    "\n",
    "\n",
    "![The process of Land Registration](figures/example.png)\n",
    "\n",
    "This workshop helps describe this journey.\n"
   ]
  },
  {
   "cell_type": "markdown",
   "metadata": {
    "deletable": true,
    "editable": true
   },
   "source": [
    "# Who Is This Workshop For?\n",
    "\n",
    "Add some text here"
   ]
  },
  {
   "cell_type": "markdown",
   "metadata": {
    "deletable": true,
    "editable": true
   },
   "source": [
    "# Outline of the Workshop\n",
    "\n",
    "Each section of this workshop ......"
   ]
  },
  {
   "cell_type": "markdown",
   "metadata": {
    "deletable": true,
    "editable": true
   },
   "source": [
    "# Using Code Examples\n",
    "\n",
    "This presentation is interactive. The expectation is that you will run the code associated with the notebooks. "
   ]
  },
  {
   "cell_type": "markdown",
   "metadata": {
    "deletable": true,
    "editable": true
   },
   "source": [
    "## Installation Considerations\n",
    "\n",
    "Installing Python and the suite of libraries that enable scientific computing is straightforward . This section will outline some of the considerations when setting up your computer.\n",
    "\n",
    "Though there are various ways to install Python, the one I would suggest for use in data science is the Anaconda distribution, which works similarly whether you use Windows, Linux, or Mac OS X.\n",
    "The Anaconda distribution comes in two flavors:\n",
    "\n",
    "- [Miniconda](http://conda.pydata.org/miniconda.html) gives you the Python interpreter itself, along with a command-line tool called ``conda`` which operates as a cross-platform package manager geared toward Python packages, similar in spirit to the apt or yum tools that Linux users might be familiar with.\n",
    "\n",
    "- [Anaconda](https://www.continuum.io/downloads) includes both Python and conda, and additionally bundles a suite of other pre-installed packages geared toward scientific computing. Because of the size of this bundle, expect the installation to consume several gigabytes of disk space.\n",
    "\n",
    "Any of the packages included with Anaconda can also be installed manually on top of Miniconda; for this reason I suggest starting with Miniconda.\n",
    "\n",
    "To get started, download and install the Miniconda package–make sure to choose a version with Python 3–and then install the core packages used in this book:\n",
    "\n",
    "```\n",
    "[~]$ conda install numpy pandas scikit-learn matplotlib seaborn jupyter\n",
    "```\n",
    "\n",
    "Throughout the text, we will also make use of other more specialized tools in Python's scientific ecosystem; installation is usually as easy as typing **``conda install packagename``**.\n",
    "For more information on conda, including information about creating and using conda environments (which I would *highly* recommend), refer to [conda's online documentation](http://conda.pydata.org/docs/).\n",
    "\n"
   ]
  },
  {
   "cell_type": "markdown",
   "metadata": {
    "deletable": true,
    "editable": true
   },
   "source": [
    "<!--NAVIGATION-->\n",
    "| [Contents](Index.ipynb) | [Why Change](00.01-Why-Change.ipynb) >"
   ]
  }
 ],
 "metadata": {
  "anaconda-cloud": {},
  "kernelspec": {
   "display_name": "Python [default]",
   "language": "python",
   "name": "python3"
  },
  "language_info": {
   "codemirror_mode": {
    "name": "ipython",
    "version": 3
   },
   "file_extension": ".py",
   "mimetype": "text/x-python",
   "name": "python",
   "nbconvert_exporter": "python",
   "pygments_lexer": "ipython3",
   "version": "3.5.2"
  },
  "latex_envs": {
   "LaTeX_envs_menu_present": true,
   "autocomplete": true,
   "bibliofile": "biblio.bib",
   "cite_by": "apalike",
   "current_citInitial": 1,
   "eqLabelWithNumbers": true,
   "eqNumInitial": 1,
   "hotkeys": {
    "equation": "Ctrl-E",
    "itemize": "Ctrl-I"
   },
   "labels_anchors": false,
   "latex_user_defs": false,
   "report_style_numbering": false,
   "user_envs_cfg": false
  },
  "toc": {
   "nav_menu": {},
   "number_sections": true,
   "sideBar": true,
   "skip_h1_title": false,
   "toc_cell": false,
   "toc_position": {},
   "toc_section_display": "block",
   "toc_window_display": false
  }
 },
 "nbformat": 4,
 "nbformat_minor": 1
}
