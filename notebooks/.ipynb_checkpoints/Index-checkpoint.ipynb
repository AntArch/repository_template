{
 "cells": [
  {
   "cell_type": "markdown",
   "metadata": {
    "deletable": true,
    "editable": true
   },
   "source": [
    "# Land Register Workshop"
   ]
  },
  {
   "cell_type": "markdown",
   "metadata": {
    "deletable": true,
    "editable": true
   },
   "source": [
    "*Anthony Beck*\n",
    "\n",
    "![Book Cover](figures/LandRegistration_cover.jpg)"
   ]
  },
  {
   "cell_type": "markdown",
   "metadata": {
    "deletable": true,
    "editable": true
   },
   "source": [
    "This is the Jupyter notebook version of the workshop"
   ]
  },
  {
   "cell_type": "markdown",
   "metadata": {
    "deletable": true,
    "editable": true
   },
   "source": [
    "## Table of Contents\n",
    "\n",
    "### [Land Registration in Scotland workshop](00.00-Preface.ipynb)\n",
    "- [Why Change](00.01-Why-Change.ipynb)\n",
    "\n",
    "### [1. Concepts in the new Land Register](01.00-New-Land-Register-Concepts.ipynb)\n",
    "- ['Right on' more details about Ownership Rights](01.01-More-About-Ownership-Rights.ipynb)\n",
    "- [The importance of subordinate rights](01.02-The-importance-of-subordinate-rights.ipynb)\n",
    "- [Rights relationships and a logic of rights](01.03-Rights-relationships.ipynb)\n",
    "- [Parties and agency](01.04-Parties-and-agency.ipynb)\n",
    "- ['Plots of Land' as parties](01.05-Plots-of-land-as-parties.ipynb)\n",
    "- [Deeds: the mechanism that changes the Land Register](01.06-Deeds-the-mechanism-that-changes-the-register.ipynb)\n",
    "\n",
    "### [2. Harder concepts](02.00-Harder-concepts.ipynb)\n",
    "- [A shared plot](02.01-Shared-plots.ipynb)\n",
    "- [The pain which is 'flatted buildings'](02.02-Flatted-buildings.ipynb)\n",
    "- [What is the relationship between land and a cadastre?](02.03-What-is-the-relationship-between-land-and-cadastre.ipynb)\n",
    "- [What is a title?](02.04-What-is-a-title.ipynb)\n",
    "- [How do we describe the spatial extent of subordinate rights](02.05-So-what-do-we-call-the-spatial-extent-of-subordinate-rights.ipynb)\n",
    "- [What is the cadastral map and what is a cadastral unit?](02.06-What-is-the-cadastre.ipynb)\n",
    "\n",
    "### [3. The vision: a Parties-Rights-Land Cadastre](03.00-The-vision-a-PRL-cadastre.ipynb)\n",
    "- [The 2012 act as a driver](03.01-The-2012-act.ipynb)\n",
    "- [The vision: a Parties-Rights-Land Cadastre](03.02-The-proposed-approach.ipynb)\n",
    "\n",
    "### [4. There and back again - a number of exemplars](04.00-There-and-back-again.ipynb)\n",
    "- [MID136972 - A Typical Scenario](04.01-A-typical_scenario.ipynb)\n",
    "- [A shared plot (driveway) post 2012](04.02-A-shared-driveway-post-2012.ipynb)\n",
    "- [A shared plot (driveway) pre 2012](04.03-A-shared-driveway-pre-2012.ipynb)\n",
    "- [A complex shared plot - lock up garages](04.04-A-complex-shared-plot.ipynb)\n",
    "- [Creating a conveyancing pack](04.05-Creating-a-conveyancing-pack.ipynb)\n",
    "\n",
    "### [5. Proof of Concept (PoC) test - Clackmananshire](05.00-Proof-of-concept.ipynb)\n",
    "- [Proof of Concept (PoC) summary](05.01-PoC-summary.ipynb)\n",
    "\n",
    "### [6. Beyond Proof of Concept](06.00-Beyond-PoC.ipynb)\n",
    "- [Status of work](06.01-Status-of-work.ipynb)\n",
    "\n",
    "### [7. Physicalising the model](07.00-Physicalising-the-model.ipynb)\n",
    "\n",
    "### [8. Scenario Building](08.00-Scenario-building.ipynb)\n",
    "\n",
    "### [9. Extracting the spatial extent of rights](09.00-Extracting-the-spatial-extent-of-rights.ipynb)\n",
    "\n",
    "### [10. Engineering the transition](10.00-Engineering-the-transition.ipynb)\n",
    "\n",
    "### [11. Populating the model](11.00-Populating-the-model.ipynb)\n",
    "\n",
    "### [20. Documenting the journey](20.00-Documenting-the-journey.ipynb)"
   ]
  },
  {
   "cell_type": "code",
   "execution_count": null,
   "metadata": {
    "collapsed": true,
    "deletable": true,
    "editable": true
   },
   "outputs": [],
   "source": []
  }
 ],
 "metadata": {
  "anaconda-cloud": {},
  "kernelspec": {
   "display_name": "Python [default]",
   "language": "python",
   "name": "python3"
  },
  "language_info": {
   "codemirror_mode": {
    "name": "ipython",
    "version": 3
   },
   "file_extension": ".py",
   "mimetype": "text/x-python",
   "name": "python",
   "nbconvert_exporter": "python",
   "pygments_lexer": "ipython3",
   "version": "3.5.2"
  },
  "latex_envs": {
   "LaTeX_envs_menu_present": true,
   "autocomplete": true,
   "bibliofile": "biblio.bib",
   "cite_by": "apalike",
   "current_citInitial": 1,
   "eqLabelWithNumbers": true,
   "eqNumInitial": 1,
   "hotkeys": {
    "equation": "Ctrl-E",
    "itemize": "Ctrl-I"
   },
   "labels_anchors": false,
   "latex_user_defs": false,
   "report_style_numbering": false,
   "user_envs_cfg": false
  },
  "toc": {
   "nav_menu": {},
   "number_sections": true,
   "sideBar": true,
   "skip_h1_title": false,
   "toc_cell": false,
   "toc_position": {},
   "toc_section_display": "block",
   "toc_window_display": false
  }
 },
 "nbformat": 4,
 "nbformat_minor": 1
}
